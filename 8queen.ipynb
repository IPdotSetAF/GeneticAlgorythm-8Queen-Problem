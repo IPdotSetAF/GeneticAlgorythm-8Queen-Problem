{
 "cells": [
  {
   "cell_type": "code",
   "execution_count": 58,
   "id": "4bce217f",
   "metadata": {},
   "outputs": [
    {
     "data": {
      "text/plain": [
       "([array([5, 6, 7, 0, 1, 3, 2, 4]),\n",
       "  array([5, 7, 2, 1, 6, 0, 4, 3]),\n",
       "  array([5, 2, 4, 6, 3, 1, 7, 0]),\n",
       "  array([7, 1, 2, 6, 5, 4, 0, 3]),\n",
       "  array([0, 1, 4, 7, 5, 3, 6, 2]),\n",
       "  array([5, 2, 3, 7, 4, 0, 6, 1]),\n",
       "  array([2, 6, 4, 1, 3, 7, 5, 0]),\n",
       "  array([4, 1, 5, 3, 2, 7, 6, 0]),\n",
       "  array([6, 0, 4, 2, 3, 7, 1, 5]),\n",
       "  array([1, 6, 7, 4, 0, 5, 2, 3])],\n",
       " [6, 5, 3, 3, 3, 5, 5, 5, 6, 6])"
      ]
     },
     "execution_count": 58,
     "metadata": {},
     "output_type": "execute_result"
    }
   ],
   "source": [
    "_chromosomeLength = 8\n",
    "_populatationCount = 10\n",
    "\n",
    "GeneratePopulation()\n"
   ]
  },
  {
   "cell_type": "code",
   "execution_count": 57,
   "id": "d85ee52a",
   "metadata": {},
   "outputs": [],
   "source": [
    "def GeneratePopulation():\n",
    "    population = list([])\n",
    "    scores = list([])\n",
    "    \n",
    "    for i in range(_populatationCount): \n",
    "        population.append(GenerateChromosome())\n",
    "        scores.append(Fit(population[i]))\n",
    "        \n",
    "    return population,scores"
   ]
  },
  {
   "cell_type": "code",
   "execution_count": 55,
   "id": "78171564",
   "metadata": {},
   "outputs": [],
   "source": [
    "import numpy as np\n",
    "\n",
    "def GenerateChromosome():\n",
    "    initialState=np.arange(_chromosomeLength)\n",
    "    \n",
    "    np.random.shuffle(initialState)\n",
    "\n",
    "    return initialState"
   ]
  },
  {
   "cell_type": "code",
   "execution_count": 44,
   "id": "a2568534",
   "metadata": {},
   "outputs": [],
   "source": [
    "def Fit(chromosome):\n",
    "    rowColCollissionCount = _chromosomeLength - len(np.unique(chromosome))\n",
    "    \n",
    "    diagCollission = 0\n",
    "    \n",
    "    for i in range(_chromosomeLength):\n",
    "        for j in range(i+1,_chromosomeLength):\n",
    "            if(chromosome[i]+j-i==chromosome[j]):\n",
    "                diagCollission+=1\n",
    "                break\n",
    "        for j in range(i+1,_chromosomeLength):\n",
    "            if(chromosome[i]-j+i==chromosome[j]):\n",
    "                diagCollission+=1\n",
    "                break\n",
    "     \n",
    "    return rowColCollissionCount + diagCollission"
   ]
  }
 ],
 "metadata": {
  "kernelspec": {
   "display_name": "Python 3 (ipykernel)",
   "language": "python",
   "name": "python3"
  },
  "language_info": {
   "codemirror_mode": {
    "name": "ipython",
    "version": 3
   },
   "file_extension": ".py",
   "mimetype": "text/x-python",
   "name": "python",
   "nbconvert_exporter": "python",
   "pygments_lexer": "ipython3",
   "version": "3.7.1"
  }
 },
 "nbformat": 4,
 "nbformat_minor": 5
}
