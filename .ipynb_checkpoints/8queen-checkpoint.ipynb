{
 "cells": [
  {
   "cell_type": "code",
   "execution_count": 73,
   "id": "4bce217f",
   "metadata": {
    "scrolled": false
   },
   "outputs": [
    {
     "data": {
      "image/png": "[encoded data removed]",
      "text/plain": [
       "<Figure size 800x800 with 1 Axes>"
      ]
     },
     "metadata": {},
     "output_type": "display_data"
    },
    {
     "name": "stdout",
     "output_type": "stream",
     "text": [
      "[2 7 3 1 5 4 6 0]\n"
     ]
    }
   ],
   "source": [
    "import numpy as np\n",
    "\n",
    "_chromosomeLength = 8\n",
    "_populatationCount = 10\n",
    "_mutationProbability = 0.2\n",
    "_populationSelectionRatio = 0.6\n",
    "_crossoverMask = np.array([1,1,1,1,0,0,0,0])\n",
    "\n",
    "s=Solve()\n",
    "\n",
    "Display(s)\n",
    "print(s)"
   ]
  },
  {
   "cell_type": "code",
   "execution_count": 50,
   "id": "9a27b5c2",
   "metadata": {},
   "outputs": [],
   "source": [
    "def Solve():\n",
    "    \n",
    "    population, scores = GeneratePopulation()\n",
    "    population, scores = SortPopulationByScore(population, scores)\n",
    "\n",
    "    #while (scores[-1]!= 0):\n",
    "    #    population, scores = Evolve(population, scores)\n",
    "    \n",
    "    return population[-1]"
   ]
  },
  {
   "cell_type": "code",
   "execution_count": 51,
   "id": "59b1b124",
   "metadata": {},
   "outputs": [],
   "source": [
    "def Evolve(population , scores):\n",
    "    \n",
    "    #selection\n",
    "    \n",
    "    #crossover\n",
    "    \n",
    "    #mutation\n",
    "    \n",
    "    return SortPopulationByScore(population, scores)"
   ]
  },
  {
   "cell_type": "code",
   "execution_count": 40,
   "id": "d85ee52a",
   "metadata": {},
   "outputs": [],
   "source": [
    "def GeneratePopulation():\n",
    "    population = list([])\n",
    "    scores = list([])\n",
    "    \n",
    "    for i in range(_populatationCount): \n",
    "        population.append(GenerateChromosome())\n",
    "        scores.append(Fit(population[i]))\n",
    "        \n",
    "    return np.array(population) , np.array(scores)"
   ]
  },
  {
   "cell_type": "code",
   "execution_count": 27,
   "id": "78171564",
   "metadata": {},
   "outputs": [],
   "source": [
    "def GenerateChromosome():\n",
    "    initialState=np.arange(_chromosomeLength)\n",
    "    \n",
    "    np.random.shuffle(initialState)\n",
    "\n",
    "    return initialState"
   ]
  },
  {
   "cell_type": "code",
   "execution_count": 6,
   "id": "a2568534",
   "metadata": {},
   "outputs": [],
   "source": [
    "def Fit(chromosome):\n",
    "    rowColCollissionCount = _chromosomeLength - len(np.unique(chromosome))\n",
    "    \n",
    "    diagCollission = 0\n",
    "    \n",
    "    for i in range(_chromosomeLength):\n",
    "        for j in range(i+1,_chromosomeLength):\n",
    "            if(chromosome[i]+j-i==chromosome[j]):\n",
    "                diagCollission+=1\n",
    "                break\n",
    "        for j in range(i+1,_chromosomeLength):\n",
    "            if(chromosome[i]-j+i==chromosome[j]):\n",
    "                diagCollission+=1\n",
    "                break\n",
    "     \n",
    "    return rowColCollissionCount + diagCollission"
   ]
  },
  {
   "cell_type": "code",
   "execution_count": 24,
   "id": "429d83be",
   "metadata": {},
   "outputs": [],
   "source": [
    "def SortPopulationByScore(population , scores):\n",
    "    scoreSortedIndexes = scores.argsort()\n",
    "    \n",
    "    population = population[scoreSortedIndexes[::-1]]\n",
    "    scores = scores[scoreSortedIndexes[::-1]]\n",
    "    \n",
    "    return population , scores"
   ]
  },
  {
   "cell_type": "code",
   "execution_count": 70,
   "id": "de732e18",
   "metadata": {},
   "outputs": [],
   "source": [
    "from matplotlib import pyplot as plt\n",
    "from matplotlib import colors\n",
    "\n",
    "def Display(chromosome):\n",
    "    \n",
    "    table=np.zeros((_chromosomeLength,_chromosomeLength),dtype=int)\n",
    "    \n",
    "    for i in range(_chromosomeLength):\n",
    "        table[_chromosomeLength -1 - chromosome[i]][i] = 1\n",
    "    \n",
    "    cmap = colors.ListedColormap(['white','black'])\n",
    "    plt.figure(figsize=(_chromosomeLength,_chromosomeLength))\n",
    "    \n",
    "    plt.pcolor(table[::-1],cmap=cmap,edgecolors='k', linewidths=2)\n",
    "    plt.show()"
   ]
  }
 ],
 "metadata": {
  "kernelspec": {
   "display_name": "Python 3 (ipykernel)",
   "language": "python",
   "name": "python3"
  },
  "language_info": {
   "codemirror_mode": {
    "name": "ipython",
    "version": 3
   },
   "file_extension": ".py",
   "mimetype": "text/x-python",
   "name": "python",
   "nbconvert_exporter": "python",
   "pygments_lexer": "ipython3",
   "version": "3.7.1"
  }
 },
 "nbformat": 4,
 "nbformat_minor": 5
}
