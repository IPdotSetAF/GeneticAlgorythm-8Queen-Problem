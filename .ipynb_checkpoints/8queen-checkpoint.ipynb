{
 "cells": [
  {
   "cell_type": "code",
   "execution_count": 76,
   "id": "4bce217f",
   "metadata": {
    "scrolled": false
   },
   "outputs": [
    {
     "name": "stdout",
     "output_type": "stream",
     "text": [
      "generation : 40\n"
     ]
    },
    {
     "ename": "KeyboardInterrupt",
     "evalue": "",
     "output_type": "error",
     "traceback": [
      "\u001b[0;31m---------------------------------------------------------------------------\u001b[0m",
      "\u001b[0;31mKeyboardInterrupt\u001b[0m                         Traceback (most recent call last)",
      "\u001b[0;32m/tmp/ipykernel_28845/2246434552.py\u001b[0m in \u001b[0;36m<module>\u001b[0;34m\u001b[0m\n\u001b[1;32m     13\u001b[0m \u001b[0;34m\u001b[0m\u001b[0m\n\u001b[1;32m     14\u001b[0m \u001b[0;34m\u001b[0m\u001b[0m\n\u001b[0;32m---> 15\u001b[0;31m \u001b[0ms\u001b[0m\u001b[0;34m=\u001b[0m\u001b[0mSolve\u001b[0m\u001b[0;34m(\u001b[0m\u001b[0;34m)\u001b[0m\u001b[0;34m\u001b[0m\u001b[0;34m\u001b[0m\u001b[0m\n\u001b[0m\u001b[1;32m     16\u001b[0m \u001b[0;34m\u001b[0m\u001b[0m\n\u001b[1;32m     17\u001b[0m \u001b[0mDisplay\u001b[0m\u001b[0;34m(\u001b[0m\u001b[0ms\u001b[0m\u001b[0;34m)\u001b[0m\u001b[0;34m\u001b[0m\u001b[0;34m\u001b[0m\u001b[0m\n",
      "\u001b[0;32m/tmp/ipykernel_28845/557334865.py\u001b[0m in \u001b[0;36mSolve\u001b[0;34m()\u001b[0m\n\u001b[1;32m     11\u001b[0m     \u001b[0;32mwhile\u001b[0m \u001b[0;34m(\u001b[0m\u001b[0mscores\u001b[0m\u001b[0;34m[\u001b[0m\u001b[0;36m0\u001b[0m\u001b[0;34m]\u001b[0m\u001b[0;34m!=\u001b[0m \u001b[0;36m0\u001b[0m\u001b[0;34m)\u001b[0m\u001b[0;34m:\u001b[0m\u001b[0;34m\u001b[0m\u001b[0;34m\u001b[0m\u001b[0m\n\u001b[1;32m     12\u001b[0m         \u001b[0mgeneration\u001b[0m \u001b[0;34m+=\u001b[0m \u001b[0;36m1\u001b[0m\u001b[0;34m\u001b[0m\u001b[0;34m\u001b[0m\u001b[0m\n\u001b[0;32m---> 13\u001b[0;31m         \u001b[0mpopulation\u001b[0m\u001b[0;34m,\u001b[0m \u001b[0mscores\u001b[0m \u001b[0;34m=\u001b[0m \u001b[0mEvolve\u001b[0m\u001b[0;34m(\u001b[0m\u001b[0mpopulation\u001b[0m\u001b[0;34m,\u001b[0m \u001b[0mscores\u001b[0m\u001b[0;34m)\u001b[0m\u001b[0;34m\u001b[0m\u001b[0;34m\u001b[0m\u001b[0m\n\u001b[0m\u001b[1;32m     14\u001b[0m         \u001b[0mclear_output\u001b[0m\u001b[0;34m(\u001b[0m\u001b[0mwait\u001b[0m\u001b[0;34m=\u001b[0m\u001b[0;32mTrue\u001b[0m\u001b[0;34m)\u001b[0m\u001b[0;34m\u001b[0m\u001b[0;34m\u001b[0m\u001b[0m\n\u001b[1;32m     15\u001b[0m         \u001b[0mprint\u001b[0m\u001b[0;34m(\u001b[0m\u001b[0;34mf'generation : {generation}'\u001b[0m\u001b[0;34m)\u001b[0m\u001b[0;34m\u001b[0m\u001b[0;34m\u001b[0m\u001b[0m\n",
      "\u001b[0;32m/tmp/ipykernel_28845/3335270123.py\u001b[0m in \u001b[0;36mEvolve\u001b[0;34m(population, scores)\u001b[0m\n\u001b[1;32m      3\u001b[0m     \u001b[0mpopulation\u001b[0m\u001b[0;34m,\u001b[0m \u001b[0mscores\u001b[0m \u001b[0;34m=\u001b[0m \u001b[0mSelect\u001b[0m\u001b[0;34m(\u001b[0m\u001b[0mpopulation\u001b[0m \u001b[0;34m,\u001b[0m \u001b[0mscores\u001b[0m\u001b[0;34m)\u001b[0m\u001b[0;34m\u001b[0m\u001b[0;34m\u001b[0m\u001b[0m\n\u001b[1;32m      4\u001b[0m \u001b[0;34m\u001b[0m\u001b[0m\n\u001b[0;32m----> 5\u001b[0;31m     \u001b[0mpopulation\u001b[0m\u001b[0;34m,\u001b[0m \u001b[0mscores\u001b[0m \u001b[0;34m=\u001b[0m \u001b[0mCrossover\u001b[0m\u001b[0;34m(\u001b[0m\u001b[0mpopulation\u001b[0m \u001b[0;34m,\u001b[0m \u001b[0mscores\u001b[0m\u001b[0;34m)\u001b[0m\u001b[0;34m\u001b[0m\u001b[0;34m\u001b[0m\u001b[0m\n\u001b[0m\u001b[1;32m      6\u001b[0m \u001b[0;34m\u001b[0m\u001b[0m\n\u001b[1;32m      7\u001b[0m     \u001b[0;31m#mutation\u001b[0m\u001b[0;34m\u001b[0m\u001b[0;34m\u001b[0m\u001b[0;34m\u001b[0m\u001b[0m\n",
      "\u001b[0;32m/tmp/ipykernel_28845/3069969743.py\u001b[0m in \u001b[0;36mCrossover\u001b[0;34m(population, scores)\u001b[0m\n\u001b[1;32m     15\u001b[0m         \u001b[0mchildren\u001b[0m\u001b[0;34m.\u001b[0m\u001b[0mappend\u001b[0m\u001b[0;34m(\u001b[0m\u001b[0mc2\u001b[0m\u001b[0;34m)\u001b[0m\u001b[0;34m\u001b[0m\u001b[0;34m\u001b[0m\u001b[0m\n\u001b[1;32m     16\u001b[0m         \u001b[0mchildrenScores\u001b[0m\u001b[0;34m.\u001b[0m\u001b[0mappend\u001b[0m\u001b[0;34m(\u001b[0m\u001b[0mFit\u001b[0m\u001b[0;34m(\u001b[0m\u001b[0mc1\u001b[0m\u001b[0;34m)\u001b[0m\u001b[0;34m)\u001b[0m\u001b[0;34m\u001b[0m\u001b[0;34m\u001b[0m\u001b[0m\n\u001b[0;32m---> 17\u001b[0;31m         \u001b[0mchildrenScores\u001b[0m\u001b[0;34m.\u001b[0m\u001b[0mappend\u001b[0m\u001b[0;34m(\u001b[0m\u001b[0mFit\u001b[0m\u001b[0;34m(\u001b[0m\u001b[0mc2\u001b[0m\u001b[0;34m)\u001b[0m\u001b[0;34m)\u001b[0m\u001b[0;34m\u001b[0m\u001b[0;34m\u001b[0m\u001b[0m\n\u001b[0m\u001b[1;32m     18\u001b[0m \u001b[0;34m\u001b[0m\u001b[0m\n\u001b[1;32m     19\u001b[0m     \u001b[0mpopulation\u001b[0m \u001b[0;34m=\u001b[0m \u001b[0mnp\u001b[0m\u001b[0;34m.\u001b[0m\u001b[0mappend\u001b[0m\u001b[0;34m(\u001b[0m\u001b[0mpopulation\u001b[0m\u001b[0;34m,\u001b[0m\u001b[0mchildren\u001b[0m\u001b[0;34m,\u001b[0m\u001b[0;36m0\u001b[0m\u001b[0;34m)\u001b[0m\u001b[0;34m\u001b[0m\u001b[0;34m\u001b[0m\u001b[0m\n",
      "\u001b[0;32m/tmp/ipykernel_28845/2758753582.py\u001b[0m in \u001b[0;36mFit\u001b[0;34m(chromosome)\u001b[0m\n\u001b[1;32m      6\u001b[0m     \u001b[0;32mfor\u001b[0m \u001b[0mi\u001b[0m \u001b[0;32min\u001b[0m \u001b[0mrange\u001b[0m\u001b[0;34m(\u001b[0m\u001b[0m_chromosomeLength\u001b[0m\u001b[0;34m)\u001b[0m\u001b[0;34m:\u001b[0m\u001b[0;34m\u001b[0m\u001b[0;34m\u001b[0m\u001b[0m\n\u001b[1;32m      7\u001b[0m         \u001b[0;32mfor\u001b[0m \u001b[0mj\u001b[0m \u001b[0;32min\u001b[0m \u001b[0mrange\u001b[0m\u001b[0;34m(\u001b[0m\u001b[0mi\u001b[0m\u001b[0;34m+\u001b[0m\u001b[0;36m1\u001b[0m\u001b[0;34m,\u001b[0m\u001b[0m_chromosomeLength\u001b[0m\u001b[0;34m)\u001b[0m\u001b[0;34m:\u001b[0m\u001b[0;34m\u001b[0m\u001b[0;34m\u001b[0m\u001b[0m\n\u001b[0;32m----> 8\u001b[0;31m             \u001b[0;32mif\u001b[0m\u001b[0;34m(\u001b[0m\u001b[0mchromosome\u001b[0m\u001b[0;34m[\u001b[0m\u001b[0mi\u001b[0m\u001b[0;34m]\u001b[0m\u001b[0;34m+\u001b[0m\u001b[0mj\u001b[0m\u001b[0;34m-\u001b[0m\u001b[0mi\u001b[0m\u001b[0;34m==\u001b[0m\u001b[0mchromosome\u001b[0m\u001b[0;34m[\u001b[0m\u001b[0mj\u001b[0m\u001b[0;34m]\u001b[0m\u001b[0;34m)\u001b[0m\u001b[0;34m:\u001b[0m\u001b[0;34m\u001b[0m\u001b[0;34m\u001b[0m\u001b[0m\n\u001b[0m\u001b[1;32m      9\u001b[0m                 \u001b[0mdiagCollission\u001b[0m\u001b[0;34m+=\u001b[0m\u001b[0;36m1\u001b[0m\u001b[0;34m\u001b[0m\u001b[0;34m\u001b[0m\u001b[0m\n\u001b[1;32m     10\u001b[0m                 \u001b[0;32mbreak\u001b[0m\u001b[0;34m\u001b[0m\u001b[0;34m\u001b[0m\u001b[0m\n",
      "\u001b[0;31mKeyboardInterrupt\u001b[0m: "
     ]
    }
   ],
   "source": [
    "import numpy as np\n",
    "\n",
    "_chromosomeLength = 8\n",
    "_populatationCount = 100\n",
    "_mutationProbability = 0.2\n",
    "_populationSelectionRatio = 0.6\n",
    "_crossoverMask = np.array([1,1,1,1,0,0,0,0])\n",
    "\n",
    "_invCrossoverMask = list([])\n",
    "for i in _crossoverMask:\n",
    "    _invCrossoverMask.append(1-i)\n",
    "_invCrossoverMask = np.array(_invCrossoverMask)\n",
    "\n",
    "    \n",
    "s=Solve()\n",
    "\n",
    "Display(s)\n",
    "print(s)"
   ]
  },
  {
   "cell_type": "code",
   "execution_count": 72,
   "id": "17c606f5",
   "metadata": {},
   "outputs": [],
   "source": [
    "from IPython.display import clear_output\n",
    "\n",
    "def Solve():\n",
    "    \n",
    "    population, scores = GeneratePopulation()\n",
    "    population, scores = SortPopulationByScore(population, scores)\n",
    "\n",
    "    #print(Evolve(population, scores))\n",
    "    \n",
    "    generation = 1\n",
    "    while (scores[0]!= 0):\n",
    "        generation += 1\n",
    "        population, scores = Evolve(population, scores)\n",
    "        clear_output(wait=True)\n",
    "        print(f'generation : {generation}')\n",
    "    \n",
    "    return population[0]"
   ]
  },
  {
   "cell_type": "code",
   "execution_count": 46,
   "id": "3bb8ffea",
   "metadata": {},
   "outputs": [],
   "source": [
    "def Evolve(population , scores):\n",
    "        \n",
    "    population, scores = Select(population , scores)\n",
    "    \n",
    "    population, scores = Crossover(population , scores)\n",
    "    \n",
    "    #mutation\n",
    "    \n",
    "    return SortPopulationByScore(population, scores)"
   ]
  },
  {
   "cell_type": "code",
   "execution_count": 82,
   "id": "b049fff6",
   "metadata": {},
   "outputs": [],
   "source": [
    "def Select(population, scores):\n",
    "    \n",
    "    selectionCount = int(len(population)*_populationSelectionRatio)\n",
    "    \n",
    "    return population[0:selectionCount] , scores [0:selectionCount]"
   ]
  },
  {
   "cell_type": "code",
   "execution_count": 75,
   "id": "595ef20b",
   "metadata": {},
   "outputs": [],
   "source": [
    "def Crossover(population , scores):\n",
    "    # _crossoverMask\n",
    "    # _invCrossoverMask\n",
    "    \n",
    "    childCount =len(population)\n",
    "    if(childCount%2!= 0 ):\n",
    "        childCount-=1\n",
    "    \n",
    "    children =list([])\n",
    "    childrenScores =list([])\n",
    "    \n",
    "    for i in range(0,childCount,2):\n",
    "        c1,c2 = Breed(population[i],population[i+1])\n",
    "        children.append(c1)\n",
    "        children.append(c2)\n",
    "        childrenScores.append(Fit(c1))\n",
    "        childrenScores.append(Fit(c2))\n",
    "    \n",
    "    population = np.append(population,children,0)\n",
    "    scores = np.append(scores, childrenScores)\n",
    "        \n",
    "    return population, scores\n",
    "\n",
    "def Breed(p1,p2):\n",
    "    \n",
    "    c1=np.zeros((_chromosomeLength),dtype=int)\n",
    "    c2=np.zeros((_chromosomeLength),dtype=int)\n",
    "    \n",
    "    for i in range(_chromosomeLength):\n",
    "        c1[i] += p1[i]*_crossoverMask[i]\n",
    "        c1[i] += p2[i]*_invCrossoverMask[i]\n",
    "    \n",
    "        c2[i] += p1[i]*_invCrossoverMask[i]\n",
    "        c2[i] += p2[i]*_crossoverMask[i]\n",
    "    \n",
    "    #print(f'p1:{p1},p2:{p2}\\nc1:{c1},c2:{c2}')\n",
    "    \n",
    "    return c1,c2"
   ]
  },
  {
   "cell_type": "code",
   "execution_count": 40,
   "id": "d85ee52a",
   "metadata": {},
   "outputs": [],
   "source": [
    "def GeneratePopulation():\n",
    "    population = list([])\n",
    "    scores = list([])\n",
    "    \n",
    "    for i in range(_populatationCount): \n",
    "        population.append(GenerateChromosome())\n",
    "        scores.append(Fit(population[i]))\n",
    "        \n",
    "    return np.array(population) , np.array(scores)"
   ]
  },
  {
   "cell_type": "code",
   "execution_count": 27,
   "id": "78171564",
   "metadata": {},
   "outputs": [],
   "source": [
    "def GenerateChromosome():\n",
    "    initialState=np.arange(_chromosomeLength)\n",
    "    \n",
    "    np.random.shuffle(initialState)\n",
    "\n",
    "    return initialState"
   ]
  },
  {
   "cell_type": "code",
   "execution_count": 6,
   "id": "a2568534",
   "metadata": {},
   "outputs": [],
   "source": [
    "def Fit(chromosome):\n",
    "    rowColCollissionCount = _chromosomeLength - len(np.unique(chromosome))\n",
    "    \n",
    "    diagCollission = 0\n",
    "    \n",
    "    for i in range(_chromosomeLength):\n",
    "        for j in range(i+1,_chromosomeLength):\n",
    "            if(chromosome[i]+j-i==chromosome[j]):\n",
    "                diagCollission+=1\n",
    "                break\n",
    "        for j in range(i+1,_chromosomeLength):\n",
    "            if(chromosome[i]-j+i==chromosome[j]):\n",
    "                diagCollission+=1\n",
    "                break\n",
    "     \n",
    "    return rowColCollissionCount + diagCollission"
   ]
  },
  {
   "cell_type": "code",
   "execution_count": 83,
   "id": "429d83be",
   "metadata": {},
   "outputs": [],
   "source": [
    "def SortPopulationByScore(population , scores):\n",
    "    scoreSortedIndexes = scores.argsort()[::-1]\n",
    "    \n",
    "    population = population[scoreSortedIndexes[::-1]]\n",
    "    scores = scores[scoreSortedIndexes[::-1]]\n",
    "    \n",
    "    return population , scores"
   ]
  },
  {
   "cell_type": "code",
   "execution_count": 70,
   "id": "e4b3342b",
   "metadata": {},
   "outputs": [],
   "source": [
    "from matplotlib import pyplot as plt\n",
    "from matplotlib import colors\n",
    "\n",
    "def Display(chromosome):\n",
    "    \n",
    "    table=np.zeros((_chromosomeLength,_chromosomeLength),dtype=int)\n",
    "    \n",
    "    for i in range(_chromosomeLength):\n",
    "        table[_chromosomeLength -1 - chromosome[i]][i] = 1\n",
    "    \n",
    "    cmap = colors.ListedColormap(['white','black'])\n",
    "    plt.figure(figsize=(_chromosomeLength,_chromosomeLength))\n",
    "    \n",
    "    plt.pcolor(table[::-1],cmap=cmap,edgecolors='k', linewidths=2)\n",
    "    plt.show()"
   ]
  }
 ],
 "metadata": {
  "kernelspec": {
   "display_name": "Python 3 (ipykernel)",
   "language": "python",
   "name": "python3"
  },
  "language_info": {
   "codemirror_mode": {
    "name": "ipython",
    "version": 3
   },
   "file_extension": ".py",
   "mimetype": "text/x-python",
   "name": "python",
   "nbconvert_exporter": "python",
   "pygments_lexer": "ipython3",
   "version": "3.7.1"
  }
 },
 "nbformat": 4,
 "nbformat_minor": 5
}
