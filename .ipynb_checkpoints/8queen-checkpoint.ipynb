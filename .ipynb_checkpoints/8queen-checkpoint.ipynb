{
 "cells": [
  {
   "cell_type": "code",
   "execution_count": 31,
   "id": "438f9a61",
   "metadata": {},
   "outputs": [
    {
     "name": "stdout",
     "output_type": "stream",
     "text": [
      "generation : 21\n",
      "population : 52\n",
      "best score : 0\n"
     ]
    },
    {
     "data": {
      "image/png": "[encoded data removed]",
      "text/plain": [
       "<Figure size 250x250 with 1 Axes>"
      ]
     },
     "metadata": {},
     "output_type": "display_data"
    },
    {
     "name": "stdout",
     "output_type": "stream",
     "text": [
      "[3 5 7 2 0 6 4 1]\n"
     ]
    }
   ],
   "source": [
    "import numpy as np\n",
    "\n",
    "_chromosomeLength = 8\n",
    "_populatationCount = 54\n",
    "_mutationProbability = 0.3\n",
    "_populationSelectionRatio = 0.5\n",
    "_crossoverMask = np.array([])\n",
    "_invCrossoverMask = np.array([])\n",
    "\n",
    "_randomCrossoverMask = 1\n",
    "#_crossoverMask, _invCrossoverMask = GenerateCrossoverMask([0,0,0,0,1,1,1,1])\n",
    "    \n",
    "s=Solve()\n",
    "\n",
    "Display(s)\n",
    "print(s)"
   ]
  },
  {
   "cell_type": "code",
   "execution_count": 11,
   "id": "17c606f5",
   "metadata": {},
   "outputs": [],
   "source": [
    "from IPython.display import clear_output\n",
    "\n",
    "def Solve():\n",
    "    \n",
    "    population, scores = GeneratePopulation()\n",
    "    population, scores = SortPopulationByScore(population, scores)\n",
    "\n",
    "    generation = 1\n",
    "    while (scores[0]!= 0):\n",
    "        generation += 1\n",
    "        population, scores = Evolve(population, scores)\n",
    "        clear_output(wait=True)\n",
    "        print(f'generation : {generation}')\n",
    "        print(f'population : {len(population)}')\n",
    "        print(f'best score : {scores[0]}')\n",
    "    \n",
    "    return population[0]"
   ]
  },
  {
   "cell_type": "code",
   "execution_count": 10,
   "id": "3bb8ffea",
   "metadata": {},
   "outputs": [],
   "source": [
    "def Evolve(population , scores):\n",
    "        \n",
    "    population, scores = Select(population , scores)\n",
    "    \n",
    "    population, scores = Crossover(population , scores)\n",
    "    \n",
    "    population, scores = Mutation(population , scores)\n",
    "    \n",
    "    return SortPopulationByScore(population, scores)"
   ]
  },
  {
   "cell_type": "code",
   "execution_count": 9,
   "id": "b049fff6",
   "metadata": {},
   "outputs": [],
   "source": [
    "def Select(population, scores):\n",
    "    \n",
    "    selectionCount = int(len(population)*_populationSelectionRatio)\n",
    "    \n",
    "    return population[0:selectionCount] , scores [0:selectionCount]"
   ]
  },
  {
   "cell_type": "code",
   "execution_count": 8,
   "id": "595ef20b",
   "metadata": {},
   "outputs": [],
   "source": [
    "def Crossover(population , scores):\n",
    "    \n",
    "    childCount =len(population)\n",
    "    if(childCount%2!= 0 ):\n",
    "        childCount-=1\n",
    "    \n",
    "    children =list([])\n",
    "    childrenScores =list([])\n",
    "    \n",
    "    for i in range(0,childCount,2):\n",
    "        c1,c2 = Breed(population[i],population[i+1])\n",
    "        children.append(c1)\n",
    "        children.append(c2)\n",
    "        childrenScores.append(Fit(c1))\n",
    "        childrenScores.append(Fit(c2))\n",
    "    \n",
    "    population = np.append(population,children,0)\n",
    "    scores = np.append(scores, childrenScores)\n",
    "        \n",
    "    return population, scores\n",
    "\n",
    "def Breed(p1,p2):\n",
    "    \n",
    "    if(_randomCrossoverMask == 1):\n",
    "        _crossoverMask, _invCrossoverMask = GenerateRandomCrossoverMask()\n",
    "    \n",
    "    c1=np.zeros((_chromosomeLength),dtype=int)\n",
    "    c2=np.zeros((_chromosomeLength),dtype=int)\n",
    "    \n",
    "    for i in range(_chromosomeLength):\n",
    "        c1[i] += p1[i]*_crossoverMask[i]\n",
    "        c1[i] += p2[i]*_invCrossoverMask[i]\n",
    "    \n",
    "        c2[i] += p1[i]*_invCrossoverMask[i]\n",
    "        c2[i] += p2[i]*_crossoverMask[i]\n",
    "    \n",
    "    #print(f'p1:{p1},p2:{p2}\\nc1:{c1},c2:{c2}')\n",
    "    \n",
    "    return c1,c2"
   ]
  },
  {
   "cell_type": "code",
   "execution_count": 1,
   "id": "6df20779",
   "metadata": {},
   "outputs": [],
   "source": [
    "import random as rnd\n",
    "\n",
    "def GenerateRandomCrossoverMask():\n",
    "    breakPoint = rnd.randint(1,_chromosomeLength-1)\n",
    "    \n",
    "    a = np.zeros((breakPoint),dtype=int)\n",
    "    b = np.ones((_chromosomeLength-breakPoint),dtype=int)\n",
    "    \n",
    "    return GenerateCrossoverMask(np.append(a,b,0))\n",
    "    \n",
    "    \n",
    "def GenerateCrossoverMask(mask):\n",
    "    crossoverMask = np.array(mask)\n",
    "    \n",
    "    invCrossoverMask=list([])\n",
    "    for i in crossoverMask:\n",
    "        invCrossoverMask.append(1-i)\n",
    "    \n",
    "    return crossoverMask, np.array(invCrossoverMask)\n",
    "    "
   ]
  },
  {
   "cell_type": "code",
   "execution_count": 2,
   "id": "7b177dfc",
   "metadata": {},
   "outputs": [],
   "source": [
    "import random as rnd\n",
    "\n",
    "def Mutation(population, scores):\n",
    "    \n",
    "    for i in range(len(population)):\n",
    "        if(rnd.random() <= _mutationProbability):\n",
    "            index = rnd.randint(0,_chromosomeLength-1)\n",
    "            population[i][index]= rnd.randint(0,_chromosomeLength-1)\n",
    "            scores[i] = Fit(population[i])\n",
    "    \n",
    "    return population , scores"
   ]
  },
  {
   "cell_type": "code",
   "execution_count": 3,
   "id": "d85ee52a",
   "metadata": {},
   "outputs": [],
   "source": [
    "def GeneratePopulation():\n",
    "    population = list([])\n",
    "    scores = list([])\n",
    "    \n",
    "    for i in range(_populatationCount): \n",
    "        population.append(GenerateChromosome())\n",
    "        scores.append(Fit(population[i]))\n",
    "        \n",
    "    return np.array(population) , np.array(scores)"
   ]
  },
  {
   "cell_type": "code",
   "execution_count": 4,
   "id": "78171564",
   "metadata": {},
   "outputs": [],
   "source": [
    "def GenerateChromosome():\n",
    "    initialState=np.arange(_chromosomeLength)\n",
    "    \n",
    "    np.random.shuffle(initialState)\n",
    "\n",
    "    return initialState"
   ]
  },
  {
   "cell_type": "code",
   "execution_count": 5,
   "id": "a2568534",
   "metadata": {},
   "outputs": [],
   "source": [
    "def Fit(chromosome):\n",
    "    rowColCollissionCount = _chromosomeLength - len(np.unique(chromosome))\n",
    "    \n",
    "    diagCollission = 0\n",
    "    \n",
    "    for i in range(_chromosomeLength):\n",
    "        for j in range(i+1,_chromosomeLength):\n",
    "            if(chromosome[i]+j-i==chromosome[j]):\n",
    "                diagCollission+=1\n",
    "                break\n",
    "        for j in range(i+1,_chromosomeLength):\n",
    "            if(chromosome[i]-j+i==chromosome[j]):\n",
    "                diagCollission+=1\n",
    "                break\n",
    "     \n",
    "    return rowColCollissionCount + diagCollission"
   ]
  },
  {
   "cell_type": "code",
   "execution_count": 6,
   "id": "429d83be",
   "metadata": {},
   "outputs": [],
   "source": [
    "def SortPopulationByScore(population , scores):\n",
    "    scoreSortedIndexes = scores.argsort()[::-1]\n",
    "    \n",
    "    population = population[scoreSortedIndexes[::-1]]\n",
    "    scores = scores[scoreSortedIndexes[::-1]]\n",
    "    \n",
    "    return population , scores"
   ]
  },
  {
   "cell_type": "code",
   "execution_count": 7,
   "id": "e4b3342b",
   "metadata": {},
   "outputs": [],
   "source": [
    "from matplotlib import pyplot as plt\n",
    "from matplotlib import colors\n",
    "\n",
    "def Display(chromosome):\n",
    "    \n",
    "    table=np.zeros((_chromosomeLength,_chromosomeLength),dtype=int)\n",
    "    \n",
    "    for i in range(_chromosomeLength):\n",
    "        table[_chromosomeLength -1 - chromosome[i]][i] = 1\n",
    "    \n",
    "    cmap = colors.ListedColormap(['white','black'])\n",
    "    fig = plt.figure(figsize=(_chromosomeLength,_chromosomeLength))\n",
    "    fig.set_figheight(2.5)\n",
    "    fig.set_figwidth(2.5)\n",
    "    \n",
    "    plt.pcolor(table[::-1],cmap=cmap,edgecolors='k', linewidths=2)\n",
    "    plt.show()"
   ]
  }
 ],
 "metadata": {
  "kernelspec": {
   "display_name": "Python 3 (ipykernel)",
   "language": "python",
   "name": "python3"
  },
  "language_info": {
   "codemirror_mode": {
    "name": "ipython",
    "version": 3
   },
   "file_extension": ".py",
   "mimetype": "text/x-python",
   "name": "python",
   "nbconvert_exporter": "python",
   "pygments_lexer": "ipython3",
   "version": "3.7.1"
  }
 },
 "nbformat": 4,
 "nbformat_minor": 5
}
